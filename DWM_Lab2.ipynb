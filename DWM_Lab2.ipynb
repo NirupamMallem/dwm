{
 "cells": [
  {
   "cell_type": "code",
   "execution_count": 1,
   "id": "de22eb9d-2418-449d-9ff2-a1c5f7d7ff63",
   "metadata": {},
   "outputs": [
    {
     "name": "stderr",
     "output_type": "stream",
     "text": [
      "d:\\Anaconda3\\lib\\site-packages\\requests\\__init__.py:89: RequestsDependencyWarning: urllib3 (1.26.10) or chardet (3.0.4) doesn't match a supported version!\n",
      "  warnings.warn(\"urllib3 ({}) or chardet ({}) doesn't match a supported \"\n"
     ]
    }
   ],
   "source": [
    "import mysql.connector as mysql"
   ]
  },
  {
   "cell_type": "code",
   "execution_count": 16,
   "id": "3a8adf26-1ba9-4d24-ae4f-6e999f024088",
   "metadata": {},
   "outputs": [],
   "source": [
    "#1 Creation of tables"
   ]
  },
  {
   "cell_type": "code",
   "execution_count": 3,
   "id": "fad7b06b-f1eb-4ff1-bc97-f0b4a6a3a4af",
   "metadata": {},
   "outputs": [],
   "source": [
    "db = mysql.connect(host=\"localhost\",user=\"root\",password=\"Shiva_789\",database=\"dwm\")\n",
    "cursor = db.cursor()\n",
    "sql = \"CREATE TABLE customer ( id int primary key,email VARCHAR(20) NOT NULL, password VARCHAR(20) not null, name VARCHAR(20) NOT NULL,address text,country varchar(10),phonenumber varchar(15))\"\n",
    "mysql=\"CREATE TABLE orders ( id int primary key,customer_id int, amount decimal(20,2),shipping_address text)\"\n",
    "my=\"CREATE TABLE products ( id int primary key,name varchar(30) not null, price decimal(20,2),weight decimal(20,2),description text)\"\n",
    "cursor.execute(sql)\n",
    "cursor.execute(mysql)\n",
    "cursor.execute(my)"
   ]
  },
  {
   "cell_type": "code",
   "execution_count": 4,
   "id": "22e6f5bc-2470-45df-97bc-58764d63a012",
   "metadata": {},
   "outputs": [
    {
     "name": "stdout",
     "output_type": "stream",
     "text": [
      "2 record inserted.\n"
     ]
    }
   ],
   "source": [
    "#2 Insert records in Customer Table\n",
    "sql = \"INSERT INTO customer(id,email,password,name,address,country,phonenumber) VALUES(%s,%s,%s,%s,%s,%s,%s)\"\n",
    "val = [\n",
    "    (1,\"samy@gmail.com\",\"samy123\",\"Samy\",\"Lords 21\",\"England\",9787897410),\n",
    "    (2,\"Will@gmail.com\",\"will123\",\"Will\",\"Nands 1\",\"NZ\",7897497410)\n",
    "]\n",
    "cursor.executemany(sql,val)\n",
    "db.commit()\n",
    "print(cursor.rowcount, \"record inserted.\")"
   ]
  },
  {
   "cell_type": "code",
   "execution_count": 5,
   "id": "966ec982-c4ba-41f5-a070-cef7bf2772c4",
   "metadata": {},
   "outputs": [
    {
     "name": "stdout",
     "output_type": "stream",
     "text": [
      "2 record inserted.\n"
     ]
    }
   ],
   "source": [
    "#2 Insert records in Order Table\n",
    "sql = \"INSERT INTO orders(id,customer_id,amount,shipping_address) VALUES(%s,%s,%s,%s)\"\n",
    "val = [\n",
    "    (1,2,890.6,\"Nands 1,NZ\"),\n",
    "    (2,1,1890.6,\"Highway 1,England\")\n",
    "]\n",
    "cursor.executemany(sql,val)\n",
    "db.commit()\n",
    "print(cursor.rowcount, \"record inserted.\")"
   ]
  },
  {
   "cell_type": "code",
   "execution_count": 6,
   "id": "3d16d6ea-f2a2-48d9-b4e2-00d3b8a20e64",
   "metadata": {},
   "outputs": [
    {
     "name": "stdout",
     "output_type": "stream",
     "text": [
      "2 record inserted.\n"
     ]
    }
   ],
   "source": [
    "#2 Insert records in Products table\n",
    "sql = \"INSERT INTO products(id,name,price,weight,description) VALUES(%s,%s,%s,%s,%s)\"\n",
    "val = [\n",
    "    (1,\"Sugar\",20.00,1,\"Branded\"),\n",
    "    (2,\"Rice\",18.00,1,\"White Rice\")\n",
    "]\n",
    "cursor.executemany(sql,val)\n",
    "db.commit()\n",
    "print(cursor.rowcount, \"record inserted.\")"
   ]
  },
  {
   "cell_type": "code",
   "execution_count": 7,
   "id": "97f617b2-e745-412c-9571-611d5f72f83c",
   "metadata": {},
   "outputs": [
    {
     "name": "stdout",
     "output_type": "stream",
     "text": [
      "(1, 'samy@gmail.com', 'samy123', 'Samy', 'Lords 21', 'England', '9787897410')\n",
      "(2, 'Will@gmail.com', 'will123', 'Will', 'Nands 1', 'NZ', '7897497410')\n"
     ]
    }
   ],
   "source": [
    "#3 Display all records from customers\n",
    "cursor.execute(\"SELECT * FROM customer\")\n",
    "myresult = cursor.fetchall()\n",
    "for x in myresult:\n",
    "  print(x)"
   ]
  },
  {
   "cell_type": "code",
   "execution_count": 8,
   "id": "44a79bfe-e8a5-49d6-8617-5d87936e3b5c",
   "metadata": {},
   "outputs": [
    {
     "name": "stdout",
     "output_type": "stream",
     "text": [
      "(1, 'Sugar', Decimal('20.00'), Decimal('1.00'), 'Branded')\n",
      "(2, 'Rice', Decimal('18.00'), Decimal('1.00'), 'White Rice')\n"
     ]
    }
   ],
   "source": [
    "#3 Display all records from products\n",
    "cursor.execute(\"SELECT * FROM products\")\n",
    "myresult = cursor.fetchall()\n",
    "for x in myresult:\n",
    "  print(x)"
   ]
  },
  {
   "cell_type": "code",
   "execution_count": 9,
   "id": "b2595f01-7e9d-416b-8a4f-cd0aa549fd63",
   "metadata": {},
   "outputs": [
    {
     "name": "stdout",
     "output_type": "stream",
     "text": [
      "(1, 'samy@gmail.com', 'samy123', 'Samy', 'Lords 21', 'England', '9787897410')\n"
     ]
    }
   ],
   "source": [
    "#4 Display all the Customers whose name Starts with S\n",
    "cursor.execute(\"SELECT * FROM customer WHERE name LIKE 'S%'\")\n",
    "myresult = cursor.fetchall()\n",
    "for x in myresult:\n",
    "  print(x)"
   ]
  },
  {
   "cell_type": "code",
   "execution_count": 10,
   "id": "cb20b7e4-ec0d-4772-89c6-7d0a20202339",
   "metadata": {},
   "outputs": [
    {
     "name": "stdout",
     "output_type": "stream",
     "text": [
      "(2, 'Rice', Decimal('18.00'), Decimal('1.00'), 'White Rice')\n",
      "(1, 'Sugar', Decimal('20.00'), Decimal('1.00'), 'Branded')\n"
     ]
    }
   ],
   "source": [
    "#5 Sort all the Products by Name and display it\n",
    "cursor.execute(\"SELECT * FROM products ORDER BY name\")\n",
    "myresult = cursor.fetchall()\n",
    "for x in myresult:\n",
    "  print(x)"
   ]
  },
  {
   "cell_type": "code",
   "execution_count": 11,
   "id": "22276fc4-e7eb-4a7d-bf45-6a5cb8854771",
   "metadata": {},
   "outputs": [
    {
     "name": "stdout",
     "output_type": "stream",
     "text": [
      "(1, 2, Decimal('890.60'), 'Nands 1,NZ', 2, 'Will@gmail.com', 'will123', 'Will', 'Nands 1', 'NZ', '7897497410')\n",
      "(2, 1, Decimal('1890.60'), 'Highway 1,England', 1, 'samy@gmail.com', 'samy123', 'Samy', 'Lords 21', 'England', '9787897410')\n"
     ]
    }
   ],
   "source": [
    "#6 Display the records to know which order is placed by which customer.\n",
    "cursor.execute(\"SELECT * FROM orders LEFT JOIN customer ON orders.customer_id = customer.id\")\n",
    "myresult = cursor.fetchall()\n",
    "for x in myresult:\n",
    "  print(x)"
   ]
  },
  {
   "cell_type": "code",
   "execution_count": 12,
   "id": "b393b13b-645a-4c82-be7e-1b92e7282ed0",
   "metadata": {},
   "outputs": [],
   "source": [
    "db.close()"
   ]
  },
  {
   "cell_type": "code",
   "execution_count": null,
   "id": "5ea608f9-17d2-458c-9fc4-e0c9c6c925f0",
   "metadata": {},
   "outputs": [],
   "source": []
  }
 ],
 "metadata": {
  "kernelspec": {
   "display_name": "Python 3.9.7 ('base')",
   "language": "python",
   "name": "python3"
  },
  "language_info": {
   "codemirror_mode": {
    "name": "ipython",
    "version": 3
   },
   "file_extension": ".py",
   "mimetype": "text/x-python",
   "name": "python",
   "nbconvert_exporter": "python",
   "pygments_lexer": "ipython3",
   "version": "3.9.7"
  },
  "vscode": {
   "interpreter": {
    "hash": "b09ec625f77bf4fd762565a912b97636504ad6ec901eb2d0f4cf5a7de23e1ee5"
   }
  }
 },
 "nbformat": 4,
 "nbformat_minor": 5
}

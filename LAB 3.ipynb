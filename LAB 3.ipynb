{
 "cells": [
  {
   "cell_type": "markdown",
   "id": "e4add26e",
   "metadata": {},
   "source": [
    "<h2 align=center>LAB 3</h2>"
   ]
  },
  {
   "cell_type": "raw",
   "id": "e186c60a",
   "metadata": {},
   "source": [
    "Lab 3:\n",
    "PRE LAB:\n",
    "1. ROLAP\n",
    "   MOLAP\n",
    "   HOLAP\n",
    "   Brief description about each of them\n",
    "\n",
    "2. Differentaition between types (any 4 points)\n",
    "3. Data Cube Defininiton\n",
    "   Operations:\n",
    "   Rollup\n",
    "   Drill Down\n",
    "   Dice\n",
    "   Slice\n",
    "   Pivot with an example"
   ]
  },
  {
   "cell_type": "markdown",
   "id": "de7e71b3",
   "metadata": {},
   "source": [
    "<p>\n",
    "    1. Perform OLAP operations on the data cube created using the following Dimensional\n",
    "Tables. \n",
    "</p>"
   ]
  },
  {
   "cell_type": "code",
   "execution_count": null,
   "id": "16ff306a",
   "metadata": {},
   "outputs": [],
   "source": [
    "import pandas as pd\n",
    "import numpy as np\n",
    "import random as rd"
   ]
  },
  {
   "cell_type": "code",
   "execution_count": null,
   "id": "4a145484",
   "metadata": {},
   "outputs": [],
   "source": [
    "# Setup the dimension tables\n",
    "\n",
    "data1 = {\"key\":[\"CA\", \"NY\", \"WA\", \"ON\", \"QU\"],\n",
    "        \"name\":[\"California\", \"new York\", \"Washington\", \"Ontario\", \"Quebec\"],\n",
    "        \"country\":[\"USA\", \"USA\", \"USA\", \"Canada\", \"Canada\"]}\n",
    "state_table = pd.DataFrame(data1)\n",
    "\n",
    "\n",
    "state_table\n"
   ]
  },
  {
   "cell_type": "code",
   "execution_count": null,
   "id": "3ed44352",
   "metadata": {},
   "outputs": [],
   "source": [
    "\n",
    "data2 = {\"key\":range(1,13),\n",
    "         \"desc\":[\"Jan\", \"Feb\", \"Mar\", \"Apr\", \"May\", \"Jun\", \"Jul\", \"Aug\", \"Sep\", \"Oct\", \"Nov\", \"Dec\"],\n",
    "         \"quarter\":[\"Q1\",\"Q1\",\"Q1\",\"Q2\",\"Q2\",\"Q2\",\"Q3\",\"Q3\",\"Q3\",\"Q4\",\"Q4\",\"Q4\"]}\n",
    "month_table = pd.DataFrame(data2)\n",
    "\n",
    "month_table"
   ]
  },
  {
   "cell_type": "code",
   "execution_count": null,
   "id": "398d8c3b",
   "metadata": {},
   "outputs": [],
   "source": [
    "data3 = {\"key\":[\"Printer\", \"Tablet\", \"Laptop\"],\n",
    "         \"price\":[225, 570, 1120]}\n",
    "prod_table = pd.DataFrame(data3)\n",
    "prod_table"
   ]
  },
  {
   "cell_type": "code",
   "execution_count": null,
   "id": "49af87e6",
   "metadata": {},
   "outputs": [],
   "source": [
    "\n",
    "#generate the Sales table\n",
    "def gen_sales(no_of_recs):\n",
    "    # Generate transaction data randomly\n",
    "    loc = rd.choices(state_table.key,weights = [2, 2, 1, 1, 1],k=no_of_recs)\n",
    "    time_month = rd.choices(month_table.key,k=no_of_recs)\n",
    "    time_year = rd.choices([2018,2019],k=no_of_recs)\n",
    "    prod = rd.choices(prod_table.key,k= no_of_recs,weights = [1, 3, 2])\n",
    "    unit = rd.choices([1,2],k=no_of_recs,weights = [10, 3])\n",
    "    \n",
    "    sales = pd.DataFrame({'month':time_month,\n",
    "                      'year':time_year,\n",
    "                      'location':loc,\n",
    "                      'product':prod,\n",
    "                      'unit':unit\n",
    "                         }\n",
    "                      )\n",
    "    \n",
    "      # Sort the records by time order\n",
    "    sales = sales.sort_values(by = ['year','month'])\n",
    "    return(sales)\n",
    "\n",
    "\n",
    "sales_fact = gen_sales(500)\n",
    "sales_fact[\"value\"] = 1\n",
    "sales_fact['quarter'] = 1\n",
    "sales_fact['country'] = 1\n",
    "\n",
    "\n",
    "def amount(cols):\n",
    "    value = cols[0]\n",
    "    product = cols[1]\n",
    "    while value == 1:\n",
    "        if  product == \"Tablet\":\n",
    "            return 570\n",
    "        elif product == \"Printer\":\n",
    "            return 225\n",
    "        else:\n",
    "            return 1120\n",
    "        \n",
    "def quarter(cols):\n",
    "    quarter = cols[0]\n",
    "    month = cols[1]\n",
    "    while quarter == 1:\n",
    "        if  month <= 3:\n",
    "            return 'Q1'\n",
    "        elif month <= 6:\n",
    "            return 'Q2'\n",
    "        elif month <= 9:\n",
    "            return 'Q3'\n",
    "        else:\n",
    "            return 'Q4' \n",
    "\n",
    "def country(cols):\n",
    "    country = cols[0]\n",
    "    location = cols[1]\n",
    "    while country == 1:\n",
    "        if  location == \"CA\":\n",
    "            return 'USA'\n",
    "        elif location == \"NY\":\n",
    "            return 'USA'\n",
    "        elif location == \"WA\":\n",
    "            return 'USA'\n",
    "        elif location == \"ON\":\n",
    "            return 'Canada'\n",
    "        else:\n",
    "            return 'Canada'        \n",
    "\n"
   ]
  },
  {
   "cell_type": "code",
   "execution_count": null,
   "id": "203d169c",
   "metadata": {},
   "outputs": [],
   "source": [
    "sales_fact[\"quarter\"] = sales_fact[['quarter','month']].apply(quarter,axis=1)\n",
    "sales_fact[\"country\"] = sales_fact[['country','location']].apply(country,axis=1)\n",
    "sales_fact[\"value\"] = sales_fact[['value','product']].apply(amount,axis=1)\n",
    "sales_fact['amount'] = sales_fact[\"value\"]*sales_fact['unit']"
   ]
  },
  {
   "cell_type": "code",
   "execution_count": null,
   "id": "e2fbb873",
   "metadata": {},
   "outputs": [],
   "source": [
    "import os\n",
    "sales_fact.to_csv('sales.csv')\n",
    "sale = os.path.abspath(\"sales.csv\")\n",
    "revenue =  pd.read_csv(sale)"
   ]
  },
  {
   "cell_type": "code",
   "execution_count": null,
   "id": "94393ec3",
   "metadata": {},
   "outputs": [],
   "source": [
    "revenue.drop(['Unnamed: 0','unit','value'],axis=1,inplace=True)\n",
    "revenue = revenue[['month', 'quarter','year','location','country','product','amount']]\n",
    "\n",
    "\n",
    "print(\"Wecome To Operation of OLAP \\n\")\n",
    "print('Data present in the databse\\n')\n",
    "print(revenue)\n",
    "\n",
    "play = True"
   ]
  },
  {
   "cell_type": "code",
   "execution_count": 11,
   "id": "d3c5f55b",
   "metadata": {},
   "outputs": [
    {
     "name": "stdout",
     "output_type": "stream",
     "text": [
      "Which operation would you like to perform? \n",
      "1)rollup\n",
      "2)dice\n",
      "3)slice\n",
      "4)drilldown\n",
      "5)pivot\n",
      "dice\n",
      "Looks like you selected dice.\n",
      "                    amount\n",
      "year product month        \n",
      "2018 Laptop  1        6720\n",
      "             2        3360\n",
      "     Tablet  1        1140\n",
      "             2        2280\n",
      "             3        2850\n",
      "Do you wish to continue [y|N] > n\n"
     ]
    }
   ],
   "source": [
    "\n",
    "while play:\n",
    "    olap = str(input(\"Which operation would you like to perform? \\n1)rollup\\n2)dice\\n3)slice\\n4)drilldown\\n5)pivot\\n\")).lower()\n",
    "    if olap in ['dice','rollup','slice','drilldown','pivot']:\n",
    "        print(\"Looks like you selected {}.\".format(olap))\n",
    "        \n",
    "        \n",
    "        if olap == 'dice':\n",
    "            dc = revenue[(revenue['year'] ==2018) & (revenue['location'] == 'CA') & \n",
    "                    ((revenue['product'] =='Laptop') | (revenue['product']=='Tablet')) &\n",
    "                    ((revenue['month']==1) | (revenue['month']==2) | (revenue['month']==3))]\n",
    "            print(dc.groupby(['year','product','month']).sum())\n",
    "\n",
    "        '''\n",
    "        \"Rollup\" is about applying an aggregation function to collapse a number of dimensions.\n",
    "        For example, we want to focus in the annual revenue for each product and collapse \n",
    "        the location dimension (ie: we don't care where we sold our product). \n",
    "        '''\n",
    "        if olap == 'rollup':\n",
    "            print(revenue.groupby(['year','product']).sum())\n",
    "\n",
    "        '''\n",
    "        \"Slice\" is about fixing certain dimensions to analyze the remaining dimensions.\n",
    "        For example, we can focus in the sales happening in \"2019\", \"Feb\", \n",
    "        or we can focus in the sales happening in \"2019\", \"Jan\", \"Tablet\".\n",
    "        '''\n",
    "        if olap == 'slice':\n",
    "            print(revenue[(revenue['year'] ==2019) & (revenue['month'] == 2)].head())\n",
    "\n",
    "        '''\n",
    "        \"Drilldown\" is the reverse of \"rollup\" and applying an aggregation function to a finer level of granularity.\n",
    "        For example, we want to focus in the annual and monthly revenue for each product \n",
    "        and collapse the location dimension (ie: we don't care where we sold our product).\n",
    "        '''\n",
    "        if olap == 'drilldown':\n",
    "            revenues = revenue[revenue['product'] == 'Laptop']\n",
    "            print(revenues.groupby(['year','month']).sum())\n",
    "\n",
    "        '''\n",
    "        \"Pivot\" is about analyzing the combination of a pair of selected dimensions.\n",
    "        For example, we want to analyze the revenue by year and month.\n",
    "        Or we want to analyze the revenue by product and location.\n",
    "        '''  \n",
    "        if olap == 'pivot':\n",
    "            print(revenue.pivot_table(index='year',columns='month',values='amount'))\n",
    "        \n",
    "        flag = str(input(\"Do you wish to continue [y|N] > \"))\n",
    "\n",
    "        if flag.lower == 'y':\n",
    "            play = True \n",
    "        else:\n",
    "            play = False\n"
   ]
  },
  {
   "cell_type": "code",
   "execution_count": null,
   "id": "60d66c2e",
   "metadata": {},
   "outputs": [],
   "source": []
  }
 ],
 "metadata": {
  "kernelspec": {
   "display_name": "Python 3",
   "language": "python",
   "name": "python3"
  },
  "language_info": {
   "codemirror_mode": {
    "name": "ipython",
    "version": 3
   },
   "file_extension": ".py",
   "mimetype": "text/x-python",
   "name": "python",
   "nbconvert_exporter": "python",
   "pygments_lexer": "ipython3",
   "version": "3.8.8"
  }
 },
 "nbformat": 4,
 "nbformat_minor": 5
}

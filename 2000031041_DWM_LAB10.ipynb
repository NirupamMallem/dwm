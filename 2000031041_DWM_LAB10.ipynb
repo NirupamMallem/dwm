{
  "cells": [
    {
      "cell_type": "code",
      "execution_count": 1,
      "metadata": {
        "id": "1vbYGpuov2Lu"
      },
      "outputs": [],
      "source": [
        "import pandas as pd\n",
        "import numpy as np"
      ]
    },
    {
      "cell_type": "code",
      "execution_count": 2,
      "metadata": {
        "colab": {
          "base_uri": "https://localhost:8080/",
          "height": 417
        },
        "id": "9c6PMxxnwBFk",
        "outputId": "b17d0097-2eb1-43db-b71a-7b277b60cddb"
      },
      "outputs": [
        {
          "name": "stderr",
          "output_type": "stream",
          "text": [
            "d:\\Anaconda3\\lib\\site-packages\\IPython\\core\\interactiveshell.py:3444: DtypeWarning: Columns (3,5,6) have mixed types.Specify dtype option on import or set low_memory=False.\n",
            "  exec(code_obj, self.user_global_ns, self.user_ns)\n"
          ]
        },
        {
          "data": {
            "text/html": [
              "<div>\n",
              "<style scoped>\n",
              "    .dataframe tbody tr th:only-of-type {\n",
              "        vertical-align: middle;\n",
              "    }\n",
              "\n",
              "    .dataframe tbody tr th {\n",
              "        vertical-align: top;\n",
              "    }\n",
              "\n",
              "    .dataframe thead th {\n",
              "        text-align: right;\n",
              "    }\n",
              "</style>\n",
              "<table border=\"1\" class=\"dataframe\">\n",
              "  <thead>\n",
              "    <tr style=\"text-align: right;\">\n",
              "      <th></th>\n",
              "      <th>Invoice</th>\n",
              "      <th>StockCode</th>\n",
              "      <th>Description</th>\n",
              "      <th>Quantity</th>\n",
              "      <th>InvoiceDate</th>\n",
              "      <th>Price</th>\n",
              "      <th>Customer ID</th>\n",
              "      <th>Country</th>\n",
              "    </tr>\n",
              "  </thead>\n",
              "  <tbody>\n",
              "    <tr>\n",
              "      <th>0</th>\n",
              "      <td>489434</td>\n",
              "      <td>85048</td>\n",
              "      <td>15CM CHRISTMAS GLASS BALL 20 LIGHTS</td>\n",
              "      <td>12</td>\n",
              "      <td>12/1/2009 7:45</td>\n",
              "      <td>6.95</td>\n",
              "      <td>13085.0</td>\n",
              "      <td>United Kingdom</td>\n",
              "    </tr>\n",
              "    <tr>\n",
              "      <th>1</th>\n",
              "      <td>489434</td>\n",
              "      <td>79323P</td>\n",
              "      <td>PINK CHERRY LIGHTS</td>\n",
              "      <td>12</td>\n",
              "      <td>12/1/2009 7:45</td>\n",
              "      <td>6.75</td>\n",
              "      <td>13085.0</td>\n",
              "      <td>United Kingdom</td>\n",
              "    </tr>\n",
              "    <tr>\n",
              "      <th>2</th>\n",
              "      <td>489434</td>\n",
              "      <td>79323W</td>\n",
              "      <td>WHITE CHERRY LIGHTS</td>\n",
              "      <td>12</td>\n",
              "      <td>12/1/2009 7:45</td>\n",
              "      <td>6.75</td>\n",
              "      <td>13085.0</td>\n",
              "      <td>United Kingdom</td>\n",
              "    </tr>\n",
              "    <tr>\n",
              "      <th>3</th>\n",
              "      <td>489434</td>\n",
              "      <td>22041</td>\n",
              "      <td>RECORD FRAME 7\" SINGLE SIZE</td>\n",
              "      <td>48</td>\n",
              "      <td>12/1/2009 7:45</td>\n",
              "      <td>2.1</td>\n",
              "      <td>13085.0</td>\n",
              "      <td>United Kingdom</td>\n",
              "    </tr>\n",
              "    <tr>\n",
              "      <th>4</th>\n",
              "      <td>489434</td>\n",
              "      <td>21232</td>\n",
              "      <td>STRAWBERRY CERAMIC TRINKET BOX</td>\n",
              "      <td>24</td>\n",
              "      <td>12/1/2009 7:45</td>\n",
              "      <td>1.25</td>\n",
              "      <td>13085.0</td>\n",
              "      <td>United Kingdom</td>\n",
              "    </tr>\n",
              "    <tr>\n",
              "      <th>...</th>\n",
              "      <td>...</td>\n",
              "      <td>...</td>\n",
              "      <td>...</td>\n",
              "      <td>...</td>\n",
              "      <td>...</td>\n",
              "      <td>...</td>\n",
              "      <td>...</td>\n",
              "      <td>...</td>\n",
              "    </tr>\n",
              "    <tr>\n",
              "      <th>991371</th>\n",
              "      <td>576269</td>\n",
              "      <td>23014</td>\n",
              "      <td>GLASS APOTHECARY BOTTLE ELIXIR</td>\n",
              "      <td>4</td>\n",
              "      <td>11/14/2011 14:23</td>\n",
              "      <td>3.95</td>\n",
              "      <td>12762.0</td>\n",
              "      <td>Portugal</td>\n",
              "    </tr>\n",
              "    <tr>\n",
              "      <th>991372</th>\n",
              "      <td>576269</td>\n",
              "      <td>22949</td>\n",
              "      <td>SET OF 36 DOLLY GIRL PAPER DOILIES</td>\n",
              "      <td>12</td>\n",
              "      <td>11/14/2011 14:23</td>\n",
              "      <td>1.45</td>\n",
              "      <td>12762.0</td>\n",
              "      <td>Portugal</td>\n",
              "    </tr>\n",
              "    <tr>\n",
              "      <th>991373</th>\n",
              "      <td>576269</td>\n",
              "      <td>21210</td>\n",
              "      <td>SET OF 72 RETROSPOT PAPER  DOILIES</td>\n",
              "      <td>12</td>\n",
              "      <td>11/14/2011 14:23</td>\n",
              "      <td>1.45</td>\n",
              "      <td>12762.0</td>\n",
              "      <td>Portugal</td>\n",
              "    </tr>\n",
              "    <tr>\n",
              "      <th>991374</th>\n",
              "      <td>576269</td>\n",
              "      <td>84988</td>\n",
              "      <td>SET OF 72 PINK HEART PAPER DOILIES</td>\n",
              "      <td>12</td>\n",
              "      <td>11/14/2011 14:23</td>\n",
              "      <td>1.45</td>\n",
              "      <td>12762.0</td>\n",
              "      <td>Portugal</td>\n",
              "    </tr>\n",
              "    <tr>\n",
              "      <th>991375</th>\n",
              "      <td>576269</td>\n",
              "      <td>22558</td>\n",
              "      <td>CLOTHES PEGS RETROSPOT PACK 24</td>\n",
              "      <td>12</td>\n",
              "      <td>11/14/2011 14:23</td>\n",
              "      <td>NaN</td>\n",
              "      <td>NaN</td>\n",
              "      <td>NaN</td>\n",
              "    </tr>\n",
              "  </tbody>\n",
              "</table>\n",
              "<p>991376 rows × 8 columns</p>\n",
              "</div>"
            ],
            "text/plain": [
              "       Invoice StockCode                          Description Quantity  \\\n",
              "0       489434     85048  15CM CHRISTMAS GLASS BALL 20 LIGHTS       12   \n",
              "1       489434    79323P                   PINK CHERRY LIGHTS       12   \n",
              "2       489434    79323W                  WHITE CHERRY LIGHTS       12   \n",
              "3       489434     22041         RECORD FRAME 7\" SINGLE SIZE        48   \n",
              "4       489434     21232       STRAWBERRY CERAMIC TRINKET BOX       24   \n",
              "...        ...       ...                                  ...      ...   \n",
              "991371  576269     23014       GLASS APOTHECARY BOTTLE ELIXIR        4   \n",
              "991372  576269     22949   SET OF 36 DOLLY GIRL PAPER DOILIES       12   \n",
              "991373  576269     21210   SET OF 72 RETROSPOT PAPER  DOILIES       12   \n",
              "991374  576269     84988   SET OF 72 PINK HEART PAPER DOILIES       12   \n",
              "991375  576269     22558      CLOTHES PEGS RETROSPOT PACK 24        12   \n",
              "\n",
              "             InvoiceDate Price Customer ID         Country  \n",
              "0         12/1/2009 7:45  6.95     13085.0  United Kingdom  \n",
              "1         12/1/2009 7:45  6.75     13085.0  United Kingdom  \n",
              "2         12/1/2009 7:45  6.75     13085.0  United Kingdom  \n",
              "3         12/1/2009 7:45   2.1     13085.0  United Kingdom  \n",
              "4         12/1/2009 7:45  1.25     13085.0  United Kingdom  \n",
              "...                  ...   ...         ...             ...  \n",
              "991371  11/14/2011 14:23  3.95     12762.0        Portugal  \n",
              "991372  11/14/2011 14:23  1.45     12762.0        Portugal  \n",
              "991373  11/14/2011 14:23  1.45     12762.0        Portugal  \n",
              "991374  11/14/2011 14:23  1.45     12762.0        Portugal  \n",
              "991375  11/14/2011 14:23   NaN         NaN             NaN  \n",
              "\n",
              "[991376 rows x 8 columns]"
            ]
          },
          "execution_count": 2,
          "metadata": {},
          "output_type": "execute_result"
        }
      ],
      "source": [
        "data=pd.read_csv('Market_Basket_Optimisation.csv')\n",
        "data"
      ]
    },
    {
      "cell_type": "code",
      "execution_count": 3,
      "metadata": {
        "id": "Up2kLzmm3nDn"
      },
      "outputs": [],
      "source": [
        "data=data.dropna()"
      ]
    },
    {
      "cell_type": "code",
      "execution_count": 4,
      "metadata": {
        "colab": {
          "base_uri": "https://localhost:8080/"
        },
        "id": "iCyAj7Lp3oOD",
        "outputId": "7d8a775c-7a81-4daa-a2b4-811088e9f9d4"
      },
      "outputs": [
        {
          "name": "stdout",
          "output_type": "stream",
          "text": [
            "<class 'pandas.core.frame.DataFrame'>\n",
            "Int64Index: 769097 entries, 0 to 991374\n",
            "Data columns (total 8 columns):\n",
            " #   Column       Non-Null Count   Dtype \n",
            "---  ------       --------------   ----- \n",
            " 0   Invoice      769097 non-null  object\n",
            " 1   StockCode    769097 non-null  object\n",
            " 2   Description  769097 non-null  object\n",
            " 3   Quantity     769097 non-null  object\n",
            " 4   InvoiceDate  769097 non-null  object\n",
            " 5   Price        769097 non-null  object\n",
            " 6   Customer ID  769097 non-null  object\n",
            " 7   Country      769097 non-null  object\n",
            "dtypes: object(8)\n",
            "memory usage: 52.8+ MB\n"
          ]
        }
      ],
      "source": [
        "data.info()"
      ]
    },
    {
      "cell_type": "code",
      "execution_count": 5,
      "metadata": {
        "colab": {
          "base_uri": "https://localhost:8080/"
        },
        "id": "AvSwEIUX3oQx",
        "outputId": "3d401e04-7725-48bd-8343-19316e454da2"
      },
      "outputs": [
        {
          "name": "stdout",
          "output_type": "stream",
          "text": [
            "<class 'pandas.core.frame.DataFrame'>\n",
            "Int64Index: 0 entries\n",
            "Data columns (total 8 columns):\n",
            " #   Column       Non-Null Count  Dtype \n",
            "---  ------       --------------  ----- \n",
            " 0   Invoice      0 non-null      object\n",
            " 1   StockCode    0 non-null      object\n",
            " 2   Description  0 non-null      object\n",
            " 3   Quantity     0 non-null      object\n",
            " 4   InvoiceDate  0 non-null      object\n",
            " 5   Price        0 non-null      object\n",
            " 6   Customer ID  0 non-null      object\n",
            " 7   Country      0 non-null      object\n",
            "dtypes: object(8)\n",
            "memory usage: 0.0+ bytes\n"
          ]
        }
      ],
      "source": [
        "dp=data[data['Quantity']==0]\n",
        "dp.info()"
      ]
    },
    {
      "cell_type": "code",
      "execution_count": 6,
      "metadata": {
        "colab": {
          "base_uri": "https://localhost:8080/",
          "height": 568
        },
        "id": "4MyQB0hL3oTI",
        "outputId": "e26d70eb-61c0-4bc5-d14e-e1f80548ae44"
      },
      "outputs": [
        {
          "data": {
            "text/html": [
              "<div>\n",
              "<style scoped>\n",
              "    .dataframe tbody tr th:only-of-type {\n",
              "        vertical-align: middle;\n",
              "    }\n",
              "\n",
              "    .dataframe tbody tr th {\n",
              "        vertical-align: top;\n",
              "    }\n",
              "\n",
              "    .dataframe thead th {\n",
              "        text-align: right;\n",
              "    }\n",
              "</style>\n",
              "<table border=\"1\" class=\"dataframe\">\n",
              "  <thead>\n",
              "    <tr style=\"text-align: right;\">\n",
              "      <th>Description</th>\n",
              "    </tr>\n",
              "    <tr>\n",
              "      <th>Invoice</th>\n",
              "    </tr>\n",
              "  </thead>\n",
              "  <tbody>\n",
              "  </tbody>\n",
              "</table>\n",
              "</div>"
            ],
            "text/plain": [
              "Empty DataFrame\n",
              "Columns: []\n",
              "Index: []"
            ]
          },
          "execution_count": 6,
          "metadata": {},
          "output_type": "execute_result"
        }
      ],
      "source": [
        "basket=(dp[dp['Country']==\"United Kingdom\"].groupby(['Invoice','Description'])['Quantity'].sum().unstack().reset_index().fillna(0).set_index('Invoice'))\n",
        "basket"
      ]
    },
    {
      "cell_type": "code",
      "execution_count": 7,
      "metadata": {
        "colab": {
          "base_uri": "https://localhost:8080/",
          "height": 568
        },
        "id": "sTQ5I4wQ3nGj",
        "outputId": "1879356a-3d24-4bad-b672-a8c6798119a4"
      },
      "outputs": [
        {
          "data": {
            "text/html": [
              "<div>\n",
              "<style scoped>\n",
              "    .dataframe tbody tr th:only-of-type {\n",
              "        vertical-align: middle;\n",
              "    }\n",
              "\n",
              "    .dataframe tbody tr th {\n",
              "        vertical-align: top;\n",
              "    }\n",
              "\n",
              "    .dataframe thead th {\n",
              "        text-align: right;\n",
              "    }\n",
              "</style>\n",
              "<table border=\"1\" class=\"dataframe\">\n",
              "  <thead>\n",
              "    <tr style=\"text-align: right;\">\n",
              "      <th>Description</th>\n",
              "    </tr>\n",
              "    <tr>\n",
              "      <th>Invoice</th>\n",
              "    </tr>\n",
              "  </thead>\n",
              "  <tbody>\n",
              "  </tbody>\n",
              "</table>\n",
              "</div>"
            ],
            "text/plain": [
              "Empty DataFrame\n",
              "Columns: []\n",
              "Index: []"
            ]
          },
          "execution_count": 7,
          "metadata": {},
          "output_type": "execute_result"
        }
      ],
      "source": [
        "def encode_units(x):\n",
        "  if x<=0:\n",
        "    return 0\n",
        "  if x>=1:\n",
        "    return 1\n",
        "\n",
        "basket_encode=basket.applymap(encode_units)\n",
        "basket_encode"
      ]
    },
    {
      "cell_type": "code",
      "execution_count": 8,
      "metadata": {
        "colab": {
          "base_uri": "https://localhost:8080/",
          "height": 568
        },
        "id": "8eE1liEI3nJp",
        "outputId": "34700397-8558-4728-ff63-8981f0afdc12"
      },
      "outputs": [
        {
          "data": {
            "text/html": [
              "<div>\n",
              "<style scoped>\n",
              "    .dataframe tbody tr th:only-of-type {\n",
              "        vertical-align: middle;\n",
              "    }\n",
              "\n",
              "    .dataframe tbody tr th {\n",
              "        vertical-align: top;\n",
              "    }\n",
              "\n",
              "    .dataframe thead th {\n",
              "        text-align: right;\n",
              "    }\n",
              "</style>\n",
              "<table border=\"1\" class=\"dataframe\">\n",
              "  <thead>\n",
              "    <tr style=\"text-align: right;\">\n",
              "      <th>Description</th>\n",
              "    </tr>\n",
              "    <tr>\n",
              "      <th>Invoice</th>\n",
              "    </tr>\n",
              "  </thead>\n",
              "  <tbody>\n",
              "  </tbody>\n",
              "</table>\n",
              "</div>"
            ],
            "text/plain": [
              "Empty DataFrame\n",
              "Columns: []\n",
              "Index: []"
            ]
          },
          "execution_count": 8,
          "metadata": {},
          "output_type": "execute_result"
        }
      ],
      "source": [
        "basket_filter=basket_encode[(basket_encode>0).sum(axis=1)>=2]\n",
        "basket_filter"
      ]
    },
    {
      "cell_type": "code",
      "execution_count": 9,
      "metadata": {
        "id": "YtioRNFq3nNl"
      },
      "outputs": [],
      "source": [
        "from mlxtend.frequent_patterns import apriori"
      ]
    },
    {
      "cell_type": "code",
      "execution_count": 10,
      "metadata": {
        "colab": {
          "base_uri": "https://localhost:8080/",
          "height": 417
        },
        "id": "7o9Uvf_A3nQC",
        "outputId": "e5f940f3-d835-46f1-91d2-d4ef858c8804"
      },
      "outputs": [
        {
          "data": {
            "text/html": [
              "<div>\n",
              "<style scoped>\n",
              "    .dataframe tbody tr th:only-of-type {\n",
              "        vertical-align: middle;\n",
              "    }\n",
              "\n",
              "    .dataframe tbody tr th {\n",
              "        vertical-align: top;\n",
              "    }\n",
              "\n",
              "    .dataframe thead th {\n",
              "        text-align: right;\n",
              "    }\n",
              "</style>\n",
              "<table border=\"1\" class=\"dataframe\">\n",
              "  <thead>\n",
              "    <tr style=\"text-align: right;\">\n",
              "      <th></th>\n",
              "      <th>support</th>\n",
              "      <th>itemsets</th>\n",
              "      <th>length</th>\n",
              "    </tr>\n",
              "  </thead>\n",
              "  <tbody>\n",
              "  </tbody>\n",
              "</table>\n",
              "</div>"
            ],
            "text/plain": [
              "Empty DataFrame\n",
              "Columns: [support, itemsets, length]\n",
              "Index: []"
            ]
          },
          "execution_count": 10,
          "metadata": {},
          "output_type": "execute_result"
        }
      ],
      "source": [
        "frequent_itemsets=apriori(basket_filter,min_support=0.03,use_colnames=True).sort_values('support',ascending=False).reset_index(drop=True)\n",
        "frequent_itemsets['length']=frequent_itemsets['itemsets'].apply(lambda x: len(x))\n",
        "frequent_itemsets"
      ]
    },
    {
      "cell_type": "code",
      "execution_count": null,
      "metadata": {},
      "outputs": [],
      "source": [
        "from mlxtend.frequent_patterns import association_rules\n",
        "association_rules(frequent_itemsets,metric='lift',min_threshold=1).sort_values('lift',ascending=False).reset_index(drop=True)"
      ]
    }
  ],
  "metadata": {
    "colab": {
      "name": "190031483_DWM_LAB10ipynb",
      "provenance": []
    },
    "kernelspec": {
      "display_name": "base",
      "language": "python",
      "name": "python3"
    },
    "language_info": {
      "codemirror_mode": {
        "name": "ipython",
        "version": 3
      },
      "file_extension": ".py",
      "mimetype": "text/x-python",
      "name": "python",
      "nbconvert_exporter": "python",
      "pygments_lexer": "ipython3",
      "version": "3.9.7 (default, Sep 16 2021, 16:59:28) [MSC v.1916 64 bit (AMD64)]"
    },
    "vscode": {
      "interpreter": {
        "hash": "b09ec625f77bf4fd762565a912b97636504ad6ec901eb2d0f4cf5a7de23e1ee5"
      }
    }
  },
  "nbformat": 4,
  "nbformat_minor": 0
}

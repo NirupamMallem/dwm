{
 "cells": [
  {
   "cell_type": "markdown",
   "id": "f2ab2fd5",
   "metadata": {},
   "source": [
    "<h2 align='center'>DWM Lab 2 <h2>"
   ]
  },
  {
   "cell_type": "markdown",
   "id": "41703001",
   "metadata": {},
   "source": [
    "# V.SHIVA KUMAR CHARY    SEC-04    2000031041"
   ]
  },
  {
   "cell_type": "markdown",
   "id": "6e2bfb43",
   "metadata": {},
   "source": [
    "# PRE LAB:\n",
    "# 1. Outline the steps to perform CRUD operations in python.\n",
    "# A) \n",
    "   1. Import mysql connector\n",
    "   2. Establish connection with mysql\n",
    "   3. Create cursor object\n",
    "   4. Execute SQL Query to create a database\n",
    "   5. Execute SQL Query to create a table in that database\n",
    "   6. Insert records using commit method\n",
    "   7. Display records using fetch() and fetchall() methods\n",
    "   8. update the records using commit method\n",
    "   9. Delete the records using commit method\n",
    " \n",
    "# 2. How will you implement CRUD operations using Wrapper Classes?\n",
    "# A) \n",
    "   1. Create a database class\n",
    "   2. Create necessary constructors\n",
    "   3. Write main method\n",
    "   4. Apply necessary operations"
   ]
  },
  {
   "cell_type": "markdown",
   "id": "4681acd5",
   "metadata": {},
   "source": [
    "### IN LAB"
   ]
  },
  {
   "cell_type": "code",
   "execution_count": 1,
   "id": "c4212338",
   "metadata": {},
   "outputs": [
    {
     "name": "stderr",
     "output_type": "stream",
     "text": [
      "d:\\Anaconda3\\lib\\site-packages\\requests\\__init__.py:89: RequestsDependencyWarning: urllib3 (1.26.10) or chardet (3.0.4) doesn't match a supported version!\n",
      "  warnings.warn(\"urllib3 ({}) or chardet ({}) doesn't match a supported \"\n"
     ]
    }
   ],
   "source": [
    "#pip install mysql-connector-python (if there is error named no module found)\n",
    "\n",
    "#Import Required Libraries\n",
    "import mysql.connector as mysql\n",
    "\n",
    "#connection establishment\n",
    "db = mysql.connect(host=\"localhost\",user=\"root\",password=\"Shiva_789\",database=\"dwm\")\n",
    "cursor = db.cursor()"
   ]
  },
  {
   "cell_type": "code",
   "execution_count": 2,
   "id": "643e3c21",
   "metadata": {},
   "outputs": [],
   "source": [
    "#1. Creating required tables\n",
    "sql = \"CREATE TABLE customer ( id int primary key,email VARCHAR(20) NOT NULL, password VARCHAR(20) not null, name VARCHAR(20) NOT NULL,address text,country varchar(10),phonenumber varchar(15))\"\n",
    "mysql=\"CREATE TABLE orders ( id int primary key,customer_id int, amount decimal(20,2),shipping_address text)\"\n",
    "my=\"CREATE TABLE products ( id int primary key,name varchar(30) not null, price decimal(20,2),weight decimal(20,2),description text)\"\n",
    "cursor.execute(sql)\n",
    "cursor.execute(mysql)\n",
    "cursor.execute(my)"
   ]
  },
  {
   "cell_type": "code",
   "execution_count": 3,
   "id": "47775646",
   "metadata": {},
   "outputs": [
    {
     "name": "stdout",
     "output_type": "stream",
     "text": [
      "2 record inserted.\n"
     ]
    }
   ],
   "source": [
    "#2 Insert records in Customer Table\n",
    "#Note: I am inserting only 2 records for demo, you need to insert atleast 15 records as mentioned\n",
    "sql = \"INSERT INTO customer(id,email,password,name,address,country,phonenumber) VALUES(%s,%s,%s,%s,%s,%s,%s)\"\n",
    "val = [\n",
    "    (1,\"Shiva@gmail.com\",\"Shiva123\",\"Shiva\",\"Hyderabad\",\"India\",952230262),\n",
    "    (2,\"Kumar@gmail.com\",\"Kumar123\",\"Kumar\",\"Vijayawada\",\"India\",6309821451)\n",
    "]\n",
    "cursor.executemany(sql,val)\n",
    "db.commit()\n",
    "print(cursor.rowcount, \"record inserted.\")"
   ]
  },
  {
   "cell_type": "code",
   "execution_count": 4,
   "id": "2beeb6e6",
   "metadata": {},
   "outputs": [
    {
     "name": "stdout",
     "output_type": "stream",
     "text": [
      "2 record inserted.\n"
     ]
    }
   ],
   "source": [
    "#2 Insert records in Order Table\n",
    "#Note: I am inserting only 2 records for demo, you need to insert atleast 15 records as mentioned\n",
    "sql = \"INSERT INTO orders(id,customer_id,amount,shipping_address) VALUES(%s,%s,%s,%s)\"\n",
    "val = [\n",
    "    (1,2,890.6,\"Simhapuri colony,Ecil,Hyd\"),\n",
    "    (2,1,1890.6,\"Chaapathi hostel,vaddeshwaram,Vij\")\n",
    "]\n",
    "cursor.executemany(sql,val)\n",
    "db.commit()\n",
    "print(cursor.rowcount, \"record inserted.\")"
   ]
  },
  {
   "cell_type": "code",
   "execution_count": 5,
   "id": "a5ce849c",
   "metadata": {},
   "outputs": [
    {
     "name": "stdout",
     "output_type": "stream",
     "text": [
      "2 record inserted.\n"
     ]
    }
   ],
   "source": [
    "#2 Insert records in Products table\n",
    "#Note: I am inserting only 2 records for demo, you need to insert atleast 15 records as mentioned\n",
    "sql = \"INSERT INTO products(id,name,price,weight,description) VALUES(%s,%s,%s,%s,%s)\"\n",
    "val = [\n",
    "    (1,\"Sugar\",20.00,1,\"Branded\"),\n",
    "    (2,\"Rice\",18.00,1,\"White Rice\")\n",
    "]\n",
    "cursor.executemany(sql,val)\n",
    "db.commit()\n",
    "print(cursor.rowcount, \"record inserted.\")"
   ]
  },
  {
   "cell_type": "code",
   "execution_count": 6,
   "id": "654f8615",
   "metadata": {},
   "outputs": [
    {
     "name": "stdout",
     "output_type": "stream",
     "text": [
      "(1, 'Shiva@gmail.com', 'Shiva123', 'Shiva', 'Hyderabad', 'India', '952230262')\n",
      "(2, 'Kumar@gmail.com', 'Kumar123', 'Kumar', 'Vijayawada', 'India', '6309821451')\n"
     ]
    }
   ],
   "source": [
    "#3 Display all records from customers\n",
    "cursor.execute(\"SELECT * FROM customer\")\n",
    "myresult = cursor.fetchall()\n",
    "for x in myresult:\n",
    "    print(x)"
   ]
  },
  {
   "cell_type": "code",
   "execution_count": 7,
   "id": "0ef92d2e",
   "metadata": {},
   "outputs": [
    {
     "name": "stdout",
     "output_type": "stream",
     "text": [
      "(1, 'Sugar', Decimal('20.00'), Decimal('1.00'), 'Branded')\n",
      "(2, 'Rice', Decimal('18.00'), Decimal('1.00'), 'White Rice')\n"
     ]
    }
   ],
   "source": [
    "#3 Display all records from products\n",
    "cursor.execute(\"SELECT * FROM products\")\n",
    "myresult = cursor.fetchall()\n",
    "for x in myresult:\n",
    "    print(x)"
   ]
  },
  {
   "cell_type": "code",
   "execution_count": 8,
   "id": "850f3370",
   "metadata": {},
   "outputs": [
    {
     "name": "stdout",
     "output_type": "stream",
     "text": [
      "(1, 'Shiva@gmail.com', 'Shiva123', 'Shiva', 'Hyderabad', 'India', '952230262')\n"
     ]
    }
   ],
   "source": [
    "#4 Display all the Customers whose name Starts with S\n",
    "cursor.execute(\"SELECT * FROM customer WHERE name LIKE 'S%'\")\n",
    "myresult = cursor.fetchall()\n",
    "for x in myresult:\n",
    "    print(x)"
   ]
  },
  {
   "cell_type": "code",
   "execution_count": 9,
   "id": "6bd4ad71",
   "metadata": {},
   "outputs": [
    {
     "name": "stdout",
     "output_type": "stream",
     "text": [
      "(2, 'Rice', Decimal('18.00'), Decimal('1.00'), 'White Rice')\n",
      "(1, 'Sugar', Decimal('20.00'), Decimal('1.00'), 'Branded')\n"
     ]
    }
   ],
   "source": [
    "#5 Sort all the Products by Name and display it\n",
    "cursor.execute(\"SELECT * FROM products ORDER BY name\")\n",
    "myresult = cursor.fetchall()\n",
    "for x in myresult:\n",
    "    print(x)"
   ]
  },
  {
   "cell_type": "code",
   "execution_count": 10,
   "id": "a77b1d76",
   "metadata": {},
   "outputs": [
    {
     "name": "stdout",
     "output_type": "stream",
     "text": [
      "(1, 2, Decimal('890.60'), 'Simhapuri colony,Ecil,Hyd', 2, 'Kumar@gmail.com', 'Kumar123', 'Kumar', 'Vijayawada', 'India', '6309821451')\n",
      "(2, 1, Decimal('1890.60'), 'Chaapathi hostel,vaddeshwaram,Vij', 1, 'Shiva@gmail.com', 'Shiva123', 'Shiva', 'Hyderabad', 'India', '952230262')\n"
     ]
    }
   ],
   "source": [
    "#6 Display the records to know which order is placed by which customer.\n",
    "cursor.execute(\"SELECT * FROM orders LEFT JOIN customer ON orders.customer_id = customer.id\")\n",
    "myresult = cursor.fetchall()\n",
    "for x in myresult:\n",
    "    print(x)"
   ]
  },
  {
   "cell_type": "code",
   "execution_count": 11,
   "id": "5f5587b1",
   "metadata": {},
   "outputs": [],
   "source": [
    "db.close()"
   ]
  },
  {
   "cell_type": "markdown",
   "id": "acef19c9",
   "metadata": {},
   "source": []
  },
  {
   "cell_type": "code",
   "execution_count": null,
   "id": "572df3e8",
   "metadata": {},
   "outputs": [],
   "source": []
  }
 ],
 "metadata": {
  "kernelspec": {
   "display_name": "Python 3.9.7 ('base')",
   "language": "python",
   "name": "python3"
  },
  "language_info": {
   "codemirror_mode": {
    "name": "ipython",
    "version": 3
   },
   "file_extension": ".py",
   "mimetype": "text/x-python",
   "name": "python",
   "nbconvert_exporter": "python",
   "pygments_lexer": "ipython3",
   "version": "3.9.7"
  },
  "vscode": {
   "interpreter": {
    "hash": "b09ec625f77bf4fd762565a912b97636504ad6ec901eb2d0f4cf5a7de23e1ee5"
   }
  }
 },
 "nbformat": 4,
 "nbformat_minor": 5
}
